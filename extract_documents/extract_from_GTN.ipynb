{
 "cells": [
  {
   "cell_type": "code",
   "execution_count": 1,
   "id": "53f58132-7bf2-45c4-aea4-b5aae2b5d965",
   "metadata": {},
   "outputs": [
    {
     "name": "stderr",
     "output_type": "stream",
     "text": [
      "/scratch/users/anup/miniconda3/envs/finetune-gllm/lib/python3.9/site-packages/tqdm/auto.py:21: TqdmWarning: IProgress not found. Please update jupyter and ipywidgets. See https://ipywidgets.readthedocs.io/en/stable/user_install.html\n",
      "  from .autonotebook import tqdm as notebook_tqdm\n"
     ]
    },
    {
     "name": "stdout",
     "output_type": "stream",
     "text": [
      "[2024-03-22 13:36:44,893] [INFO] [real_accelerator.py:158:get_accelerator] Setting ds_accelerator to cuda (auto detect)\n"
     ]
    }
   ],
   "source": [
    "import requests\n",
    "import json\n",
    "import os\n",
    "import glob\n",
    "import fnmatch\n",
    "import pandas as pd\n",
    "import markdown\n",
    "from html import unescape\n",
    "from bs4 import BeautifulSoup\n",
    "from haystack import Document\n",
    "from haystack.nodes import PreProcessor"
   ]
  },
  {
   "cell_type": "code",
   "execution_count": 9,
   "id": "d544bed8-fb34-4ef8-84c5-586991f8d6ca",
   "metadata": {},
   "outputs": [
    {
     "name": "stderr",
     "output_type": "stream",
     "text": [
      "/tmp/ipykernel_107869/1729941110.py:15: DeprecationWarning: The 'text' argument to find()-type methods is deprecated. Use 'string' instead.\n",
      "  plain_text = ''.join(BeautifulSoup(html_content, \"html.parser\").findAll(text=True))\n"
     ]
    },
    {
     "data": {
      "text/html": [
       "<div>\n",
       "<style scoped>\n",
       "    .dataframe tbody tr th:only-of-type {\n",
       "        vertical-align: middle;\n",
       "    }\n",
       "\n",
       "    .dataframe tbody tr th {\n",
       "        vertical-align: top;\n",
       "    }\n",
       "\n",
       "    .dataframe thead th {\n",
       "        text-align: right;\n",
       "    }\n",
       "</style>\n",
       "<table border=\"1\" class=\"dataframe\">\n",
       "  <thead>\n",
       "    <tr style=\"text-align: right;\">\n",
       "      <th></th>\n",
       "      <th>path</th>\n",
       "      <th>content</th>\n",
       "    </tr>\n",
       "  </thead>\n",
       "  <tbody>\n",
       "    <tr>\n",
       "      <th>0</th>\n",
       "      <td>topics_admin_README.md</td>\n",
       "      <td>Admin\\nPlease refer to the CONTRIBUTING.md bef...</td>\n",
       "    </tr>\n",
       "    <tr>\n",
       "      <th>1</th>\n",
       "      <td>topics_admin_index.md</td>\n",
       "      <td>layout: topic\\ntopic_name: admin</td>\n",
       "    </tr>\n",
       "    <tr>\n",
       "      <th>2</th>\n",
       "      <td>admin_faqs_README.md</td>\n",
       "      <td>FAQs\\nFormerly known as snippets, FAQs provide...</td>\n",
       "    </tr>\n",
       "    <tr>\n",
       "      <th>3</th>\n",
       "      <td>admin_faqs_admin-testing.md</td>\n",
       "      <td>title: Operating system compatibility\\narea: a...</td>\n",
       "    </tr>\n",
       "    <tr>\n",
       "      <th>4</th>\n",
       "      <td>admin_faqs_ansible-connection.md</td>\n",
       "      <td>title: Variable connection\\narea: ansible\\nbox...</td>\n",
       "    </tr>\n",
       "    <tr>\n",
       "      <th>...</th>\n",
       "      <td>...</td>\n",
       "      <td>...</td>\n",
       "    </tr>\n",
       "    <tr>\n",
       "      <th>1359</th>\n",
       "      <td>tutorials_circos_tutorial.md</td>\n",
       "      <td>layout: tutorial_hands_on\\ntitle: \"Visualisati...</td>\n",
       "    </tr>\n",
       "    <tr>\n",
       "      <th>1360</th>\n",
       "      <td>circos_faqs_index.md</td>\n",
       "      <td>layout: faq-page</td>\n",
       "    </tr>\n",
       "    <tr>\n",
       "      <th>1361</th>\n",
       "      <td>circos_workflows_index.md</td>\n",
       "      <td>layout: workflow-list</td>\n",
       "    </tr>\n",
       "    <tr>\n",
       "      <th>1362</th>\n",
       "      <td>tutorials_jbrowse_tutorial.md</td>\n",
       "      <td>layout: tutorial_hands_on\\ntitle: Genomic Data...</td>\n",
       "    </tr>\n",
       "    <tr>\n",
       "      <th>1363</th>\n",
       "      <td>jbrowse_faqs_index.md</td>\n",
       "      <td>layout: faq-page</td>\n",
       "    </tr>\n",
       "  </tbody>\n",
       "</table>\n",
       "<p>1364 rows × 2 columns</p>\n",
       "</div>"
      ],
      "text/plain": [
       "                                  path  \\\n",
       "0               topics_admin_README.md   \n",
       "1                topics_admin_index.md   \n",
       "2                 admin_faqs_README.md   \n",
       "3          admin_faqs_admin-testing.md   \n",
       "4     admin_faqs_ansible-connection.md   \n",
       "...                                ...   \n",
       "1359      tutorials_circos_tutorial.md   \n",
       "1360              circos_faqs_index.md   \n",
       "1361         circos_workflows_index.md   \n",
       "1362     tutorials_jbrowse_tutorial.md   \n",
       "1363             jbrowse_faqs_index.md   \n",
       "\n",
       "                                                content  \n",
       "0     Admin\\nPlease refer to the CONTRIBUTING.md bef...  \n",
       "1                      layout: topic\\ntopic_name: admin  \n",
       "2     FAQs\\nFormerly known as snippets, FAQs provide...  \n",
       "3     title: Operating system compatibility\\narea: a...  \n",
       "4     title: Variable connection\\narea: ansible\\nbox...  \n",
       "...                                                 ...  \n",
       "1359  layout: tutorial_hands_on\\ntitle: \"Visualisati...  \n",
       "1360                                   layout: faq-page  \n",
       "1361                              layout: workflow-list  \n",
       "1362  layout: tutorial_hands_on\\ntitle: Genomic Data...  \n",
       "1363                                   layout: faq-page  \n",
       "\n",
       "[1364 rows x 2 columns]"
      ]
     },
     "execution_count": 9,
     "metadata": {},
     "output_type": "execute_result"
    }
   ],
   "source": [
    "directory_path = \"../../../gtn-data/\"\n",
    "\n",
    "def read_md_file_1(path):\n",
    "    with open(path) as f:\n",
    "        content = f.read()\n",
    "        return content\n",
    "\n",
    "def read_md_file(file_path):\n",
    "    with open(file_path, 'r', encoding='utf-8') as file:\n",
    "        md_content = file.read()\n",
    "    return extract_plain_text_from_md(md_content)\n",
    "\n",
    "def extract_plain_text_from_md(md_content):\n",
    "    html_content = markdown.markdown(md_content)\n",
    "    plain_text = ''.join(BeautifulSoup(html_content, \"html.parser\").findAll(text=True))\n",
    "    return plain_text.strip()\n",
    "\n",
    "md_files = []\n",
    "md_files_data = []\n",
    "gtn_docs = []\n",
    "\n",
    "#included_content = \"/topics/statistics/tutorials/intro_deep_learning/\"\n",
    "included_content = \"/topics/\"\n",
    "\n",
    "for root, dirs, files in os.walk(directory_path):\n",
    "    for filename in files:\n",
    "        if fnmatch.fnmatch(filename, '*.md'):\n",
    "            path = os.path.join(root, filename)\n",
    "            if included_content in path:\n",
    "                s_path = path.split(\"/\")[-3:]\n",
    "                tutorial_name = \"_\".join(s_path)\n",
    "                md_plain_text = read_md_file(path)\n",
    "                md_files.append(tutorial_name)\n",
    "                md_files_data.append(md_plain_text)\n",
    "                pr_dict = {\"content\": md_plain_text, \"meta\": {\"name\": tutorial_name}}\n",
    "                doc = Document.from_json(json.dumps(pr_dict))\n",
    "                gtn_docs.append(doc)\n",
    "\n",
    "df_gtn_md_content = pd.DataFrame(zip(md_files, md_files_data), columns=[\"path\", \"content\"])\n",
    "df_gtn_md_content"
   ]
  },
  {
   "cell_type": "code",
   "execution_count": 10,
   "id": "c9bb9f71-5aa5-4a0c-a9af-01f46cc1e888",
   "metadata": {},
   "outputs": [],
   "source": [
    "df_gtn_md_content.to_csv(\"../out/df_gtn.tsv\", sep=\"\\t\", index=None)"
   ]
  },
  {
   "cell_type": "code",
   "execution_count": 4,
   "id": "f8d4ceb1-812d-4984-ab4f-f7041b7cf27b",
   "metadata": {},
   "outputs": [
    {
     "data": {
      "text/plain": [
       "'for i in range(n_pages):\\n    i += offset\\n    page_path = \"https://api.github.com/repos/galaxyproject/galaxy/pulls?page={}&state=all&per_page=100\".format(i)\\n    r = requests.get(page_path, allow_redirects=True, headers=headers)\\n    loaded_string = json.loads(r.content.decode(\"utf-8\"))\\n\\n\\nprint(\"Writing PRs to file...\")\\nopen(path + \"github_pr_page_{}-{}.json\".format(offset, offset+n_pages), \\'w\\').write(json.dumps(prs))'"
      ]
     },
     "execution_count": 4,
     "metadata": {},
     "output_type": "execute_result"
    }
   ],
   "source": [
    "'''for i in range(n_pages):\n",
    "    i += offset\n",
    "    page_path = \"https://api.github.com/repos/galaxyproject/galaxy/pulls?page={}&state=all&per_page=100\".format(i)\n",
    "    r = requests.get(page_path, allow_redirects=True, headers=headers)\n",
    "    loaded_string = json.loads(r.content.decode(\"utf-8\"))\n",
    "\n",
    "\n",
    "print(\"Writing PRs to file...\")\n",
    "open(path + \"github_pr_page_{}-{}.json\".format(offset, offset+n_pages), 'w').write(json.dumps(prs))'''"
   ]
  },
  {
   "cell_type": "code",
   "execution_count": null,
   "id": "dc18fc59-d3a7-4499-8a1b-6d50d839236e",
   "metadata": {},
   "outputs": [],
   "source": []
  },
  {
   "cell_type": "code",
   "execution_count": null,
   "id": "f0300460-613f-4c1c-92ba-465f2e695388",
   "metadata": {},
   "outputs": [],
   "source": []
  }
 ],
 "metadata": {
  "kernelspec": {
   "display_name": "Python 3 (ipykernel)",
   "language": "python",
   "name": "python3"
  },
  "language_info": {
   "codemirror_mode": {
    "name": "ipython",
    "version": 3
   },
   "file_extension": ".py",
   "mimetype": "text/x-python",
   "name": "python",
   "nbconvert_exporter": "python",
   "pygments_lexer": "ipython3",
   "version": "3.9.18"
  }
 },
 "nbformat": 4,
 "nbformat_minor": 5
}
