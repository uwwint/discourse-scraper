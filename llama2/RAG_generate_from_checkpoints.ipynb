{
 "cells": [
  {
   "cell_type": "code",
   "execution_count": 1,
   "id": "62d536c2-457e-417e-adea-e8a65b1e4d9b",
   "metadata": {},
   "outputs": [
    {
     "name": "stderr",
     "output_type": "stream",
     "text": [
      "/scratch/users/anup/miniconda3/envs/finetune-gllm/lib/python3.9/site-packages/tqdm/auto.py:21: TqdmWarning: IProgress not found. Please update jupyter and ipywidgets. See https://ipywidgets.readthedocs.io/en/stable/user_install.html\n",
      "  from .autonotebook import tqdm as notebook_tqdm\n"
     ]
    },
    {
     "name": "stdout",
     "output_type": "stream",
     "text": [
      "[2024-03-26 16:53:34,389] [INFO] [real_accelerator.py:158:get_accelerator] Setting ds_accelerator to cuda (auto detect)\n"
     ]
    }
   ],
   "source": [
    "import os\n",
    "import torch\n",
    "from datasets import load_dataset\n",
    "from transformers import (\n",
    "    AutoModelForCausalLM,\n",
    "    AutoTokenizer,\n",
    "    AutoModel,\n",
    "    BitsAndBytesConfig,\n",
    "    TrainingArguments,\n",
    "    TextIteratorStreamer\n",
    ")"
   ]
  },
  {
   "cell_type": "code",
   "execution_count": 2,
   "id": "5d1b9396-7d79-4a79-9bfb-6157c88528c3",
   "metadata": {},
   "outputs": [
    {
     "name": "stderr",
     "output_type": "stream",
     "text": [
      "Loading checkpoint shards: 100%|██████████████████████████████████████████████████████████████████████████████████████████████████████████| 2/2 [00:08<00:00,  4.09s/it]\n",
      "/scratch/users/anup/miniconda3/envs/finetune-gllm/lib/python3.9/site-packages/transformers/generation/configuration_utils.py:392: UserWarning: `do_sample` is set to `False`. However, `temperature` is set to `0.9` -- this flag is only used in sample-based generation modes. You should set `do_sample=True` or unset `temperature`. This was detected when initializing the generation config instance, which means the corresponding file may hold incorrect parameterization and should be fixed.\n",
      "  warnings.warn(\n",
      "/scratch/users/anup/miniconda3/envs/finetune-gllm/lib/python3.9/site-packages/transformers/generation/configuration_utils.py:397: UserWarning: `do_sample` is set to `False`. However, `top_p` is set to `0.6` -- this flag is only used in sample-based generation modes. You should set `do_sample=True` or unset `top_p`. This was detected when initializing the generation config instance, which means the corresponding file may hold incorrect parameterization and should be fixed.\n",
      "  warnings.warn(\n"
     ]
    }
   ],
   "source": [
    "import deepspeed\n",
    "from peft import AutoPeftModelForCausalLM\n",
    "from transformers import AutoTokenizer, AutoModel\n",
    "import torch\n",
    "from peft import AutoPeftModelForCausalLM, PeftModel\n",
    "\n",
    "base_dir = \"llama-linear-layers-all-conv-Feb-19-24-1\"\n",
    "#\"llama-linear-layers-all-conv-Dec-08-02\"\n",
    "checkpoint_number = \"checkpoint-2500\"\n",
    "checkpoint_path = \"{}/{}\".format(base_dir, checkpoint_number)\n",
    "model_name = \"NousResearch/Llama-2-7b-chat-hf\"\n",
    "\n",
    "compute_dtype = getattr(torch, \"float16\")\n",
    "\n",
    "bnb_config = BitsAndBytesConfig(\n",
    "    load_in_4bit=True,\n",
    "    bnb_4bit_use_double_quant=True,\n",
    "    bnb_4bit_quant_type=\"nf4\",\n",
    "    bnb_4bit_compute_dtype=compute_dtype\n",
    ")\n",
    "\n",
    "\n",
    "original_model = AutoModelForCausalLM.from_pretrained(\n",
    "    model_name,\n",
    "    quantization_config=bnb_config,\n",
    "    use_cache=False,\n",
    "    device_map=\"auto\"\n",
    ")\n",
    "\n",
    "peft_model = PeftModel.from_pretrained(original_model, checkpoint_path)\n",
    "#peft_model = peft_model.merge_and_unload()\n",
    "#restored_tokenizer = AutoTokenizer.from_pretrained(model_name)\n",
    "#model = AutoModel.from_pretrained(\"your_username/my-awesome-model\")"
   ]
  },
  {
   "cell_type": "code",
   "execution_count": 3,
   "id": "9ef97636-d7e5-4dd4-9c93-3299a093839d",
   "metadata": {},
   "outputs": [],
   "source": [
    "#save model to HuggingFace hub"
   ]
  },
  {
   "cell_type": "code",
   "execution_count": 4,
   "id": "12350251-0e1c-4da5-ade2-e436b4a5eef4",
   "metadata": {},
   "outputs": [],
   "source": [
    "# https://colab.research.google.com/github/deepset-ai/haystack-cookbook/blob/main/notebooks/mixtral-8x7b-for-web-qa.ipynb"
   ]
  },
  {
   "cell_type": "code",
   "execution_count": null,
   "id": "55f1eaf9-d717-494b-9899-d22bfc6614e4",
   "metadata": {},
   "outputs": [],
   "source": []
  },
  {
   "cell_type": "code",
   "execution_count": null,
   "id": "ae52dcce-bea8-495e-b37e-1d9beb6bc0b1",
   "metadata": {},
   "outputs": [],
   "source": []
  },
  {
   "cell_type": "code",
   "execution_count": 5,
   "id": "8dc65fb3-5750-4e02-9cf4-e6a34d4b64b4",
   "metadata": {},
   "outputs": [
    {
     "name": "stdin",
     "output_type": "stream",
     "text": [
      "<<>> ········\n"
     ]
    }
   ],
   "source": [
    "from getpass import getpass\n",
    "HF_TOKEN = getpass(\"<<>>\")"
   ]
  },
  {
   "cell_type": "code",
   "execution_count": 6,
   "id": "e38b433a-308f-47a8-a5d5-8b43c41253d9",
   "metadata": {},
   "outputs": [],
   "source": [
    "import requests\n",
    "import json\n",
    "import os\n",
    "import glob\n",
    "import fnmatch\n",
    "import pandas as pd\n",
    "import markdown\n",
    "from html import unescape\n",
    "from bs4 import BeautifulSoup"
   ]
  },
  {
   "cell_type": "code",
   "execution_count": 7,
   "id": "009d0b91-b89d-4285-a222-5afb213e4869",
   "metadata": {},
   "outputs": [],
   "source": [
    "#import haystack\n",
    "from haystack import Document, Pipeline\n",
    "#from haystack.nodes import PreProcessor\n",
    "#from haystack.document_stores import InMemoryDocumentStore\n",
    "\n",
    "from haystack.components.retrievers.in_memory import InMemoryBM25Retriever\n",
    "from haystack.document_stores.in_memory import InMemoryDocumentStore\n",
    "\n",
    "#from haystack.nodes import BM25Retriever, PromptNode, PromptTemplate\n",
    "from haystack.components.builders.prompt_builder import PromptBuilder"
   ]
  },
  {
   "cell_type": "code",
   "execution_count": 8,
   "id": "fc7b8f4d-fc3c-442e-86f7-0b9da3c8d3f7",
   "metadata": {},
   "outputs": [],
   "source": [
    "# Collect from GTN\n",
    "\n",
    "docs = []\n",
    "directory_path = \"../../../gtn-data/\"\n",
    "\n",
    "def read_md_file_1(path):\n",
    "    with open(path) as f:\n",
    "        content = f.read()\n",
    "        return content\n",
    "\n",
    "def read_md_file(file_path):\n",
    "    with open(file_path, 'r', encoding='utf-8') as file:\n",
    "        md_content = file.read()\n",
    "    return extract_plain_text_from_md(md_content)\n",
    "\n",
    "def extract_plain_text_from_md(md_content):\n",
    "    html_content = markdown.markdown(md_content)\n",
    "    plain_text = ''.join(BeautifulSoup(html_content, \"html.parser\").findAll(text=True))\n",
    "    return plain_text.strip()\n",
    "    \n",
    "#included_content = \"/topics/statistics/tutorials/intro_deep_learning/\"\n",
    "\n",
    "included_content = \"/topics/\"\n",
    "\n",
    "'''for root, dirs, files in os.walk(directory_path):\n",
    "    for filename in files:\n",
    "        if fnmatch.fnmatch(filename, '*.md'):\n",
    "            path = os.path.join(root, filename)\n",
    "            if included_content in path:\n",
    "                s_path = path.split(\"/\")[-3:]\n",
    "                tutorial_name = \"_\".join(s_path)\n",
    "                md_plain_text = read_md_file(path)\n",
    "                #pr_dict = {\"content\": md_plain_text, \"meta\": {\"name\": tutorial_name}}\n",
    "                doc = Document(content=md_plain_text)\n",
    "                #doc = Document.from_json(json.dumps(pr_dict))\n",
    "                docs.append(doc)'''\n",
    "\n",
    "\n",
    "# Collect from PRs\n",
    "import secrets\n",
    "\n",
    "def generate_hex_id(length):\n",
    "    # Generate a random byte string\n",
    "    random_bytes = secrets.token_bytes(length // 2)  # Length is halved because 1 byte = 2 hex characters\n",
    "\n",
    "    # Convert the byte string to a hexadecimal representation\n",
    "    hex_id = random_bytes.hex()\n",
    "\n",
    "    return hex_id\n",
    "\n",
    "# process PRs\n",
    "for json_file in glob.glob(\"../out/github_pr_page_*.json\"):\n",
    "    with open(json_file, \"r\") as fin:\n",
    "        doc_json = json.load(fin)\n",
    "        for pr in doc_json:\n",
    "            pr_text = pr[\"body\"]\n",
    "            if pr_text != None:\n",
    "                useful_text_limit = pr_text.find(\"## How to test the changes\")\n",
    "                if useful_text_limit > 0:\n",
    "                    pr_text = pr_text[:useful_text_limit].strip()\n",
    "                    #pr_dict = {\"content\": pr_text, \"meta\": {\"name\": pr[\"number\"]}}\n",
    "                    doc = Document(content=pr_text, id=generate_hex_id(10))\n",
    "                    #doc = Document.from_json(json.dumps(pr_dict))\n",
    "                    docs.append(doc)"
   ]
  },
  {
   "cell_type": "code",
   "execution_count": 9,
   "id": "3762657b-ac42-400c-8866-bfe027fb025c",
   "metadata": {},
   "outputs": [
    {
     "data": {
      "text/plain": [
       "3654"
      ]
     },
     "execution_count": 9,
     "metadata": {},
     "output_type": "execute_result"
    }
   ],
   "source": [
    "'''processor = PreProcessor(\n",
    "    clean_empty_lines=True,\n",
    "    clean_whitespace=True,\n",
    "    clean_header_footer=True,\n",
    "    split_by=\"word\",\n",
    "    split_length=200,\n",
    "    split_respect_sentence_boundary=True,\n",
    "    split_overlap=0,\n",
    "    language=\"en\",\n",
    ")'''\n",
    "\n",
    "document_store = InMemoryDocumentStore()\n",
    "retriever = InMemoryBM25Retriever(document_store=document_store, top_k=4)\n",
    "\n",
    "pipeline = Pipeline()\n",
    "pipeline.add_component(instance=retriever, name=\"retriever\")\n",
    "document_store.write_documents(docs)\n",
    "\n",
    "#result = pipeline.run(data={\"retriever\": {\"query\": \"How to make Galaxy pull request?\"}})\n",
    "\n",
    "#print(result[\"retriever\"][\"documents\"])\n",
    "\n",
    "#preprocessed_docs = processor.process(docs)\n",
    "#document_store = InMemoryDocumentStore(use_bm25=True)\n",
    "#document_store.write_documents(preprocessed_docs)\n",
    "#retriever = BM25Retriever(document_store, top_k=4)\n",
    "\n",
    "# a good Question Answering template, adapted for the instruction format\n",
    "# (https://huggingface.co/mistralai/Mistral-7B-Instruct-v0.1)"
   ]
  },
  {
   "cell_type": "code",
   "execution_count": 18,
   "id": "51e7832a-ef23-4565-8913-6c099900a2d4",
   "metadata": {},
   "outputs": [],
   "source": [
    "from haystack import component\n",
    "\n",
    "@component\n",
    "class FineTunedGenerator:\n",
    "  \"\"\"\n",
    "  A component generating query response by fine-tuned LLM\n",
    "  \"\"\"\n",
    "  @component.output_types(response=str)\n",
    "  def run(self, query:str):\n",
    "      print(\"Generating text...\")\n",
    "      restored_tokenizer = AutoTokenizer.from_pretrained(model_name)\n",
    "      input_ids = restored_tokenizer.encode(query, return_tensors=\"pt\").to('cuda')\n",
    "      outputs = peft_model.generate(\n",
    "          input_ids=input_ids, \n",
    "          max_new_tokens=256,\n",
    "          do_sample=True,\n",
    "      )\n",
    "      print(\"Finished generation\")\n",
    "      return {\"response\": outputs}"
   ]
  },
  {
   "cell_type": "code",
   "execution_count": 19,
   "id": "d05a335e-132f-4e66-b970-d510f7c7018e",
   "metadata": {},
   "outputs": [
    {
     "data": {
      "image/png": "[encoded data removed]",
      "text/plain": [
       "<IPython.core.display.Image object>"
      ]
     },
     "metadata": {},
     "output_type": "display_data"
    },
    {
     "data": {
      "text/plain": []
     },
     "execution_count": 19,
     "metadata": {},
     "output_type": "execute_result"
    }
   ],
   "source": [
    "prompt_template = \"\"\"\n",
    "According to these documents:\n",
    "\n",
    "{% for doc in documents %}\n",
    "  {{ doc.content }}\n",
    "{% endfor %}\n",
    "\n",
    "Answer the given question: {{question}}\n",
    "Answer:\n",
    "\"\"\"\n",
    "\n",
    "prompt_builder = PromptBuilder(template=prompt_template)\n",
    "\n",
    "pipeline = Pipeline()\n",
    "#pipeline.add_component(\"fetcher\", fetcher)\n",
    "#pipeline.add_component(\"converter\", converter)\n",
    "#pipeline.add_component(\"splitter\", document_splitter)\n",
    "#pipeline.add_component(\"ranker\", similarity_ranker)\n",
    "pipeline.add_component(\"prompt_builder\", prompt_builder)\n",
    "pipeline.add_component(name=\"llm\", instance= FineTunedGenerator())\n",
    "pipeline.connect(\"prompt_builder\", \"llm\")"
   ]
  },
  {
   "cell_type": "code",
   "execution_count": 20,
   "id": "ad82379a-72c8-4ca0-8e9a-bd884087c92d",
   "metadata": {},
   "outputs": [
    {
     "name": "stdout",
     "output_type": "stream",
     "text": [
      "Generating text...\n",
      "Finished generation\n",
      "tensor([[    1, 29871,    13,  7504,  3278,   304,  1438, 10701, 29901,    13,\n",
      "            13,    13,    13, 22550,   278,  2183,  1139, 29901,  1128,   508,\n",
      "           306,  1065,   263,   364,  1056, 29899, 11762,  7418,   297,  5208,\n",
      "         26825, 29973,    13, 22550, 29901,   364,  1056, 29899, 11762,   338,\n",
      "           263,  1134,   310,   302,  3174,   848, 29889,   727,   526,  1784,\n",
      "         25410,  1244,   363,   302,  3174,  7418, 29889,    13,    13,    13,\n",
      "           991,   597, 23014, 26825,  4836, 29889,  3292, 29889,   601, 29914,\n",
      "         26495, 29899, 15388, 29914,  3332,  1199, 29914,  3286,   924,   290,\n",
      "          1199, 29914, 12631, 29879, 29914,   999, 29899,  6707, 29914, 12631,\n",
      "         29889,  1420,    13,    13,   991,   597, 23014, 26825,  4836, 29889,\n",
      "          3292, 29889,   601, 29914, 26495, 29899, 15388, 29914,  3332,  1199,\n",
      "         29914,  3286,   924,   290,  1199, 29914, 12631, 29879, 29914, 27539,\n",
      "           559, 29939, 29899, 15916, 29914, 12631, 29889,  1420,    13,    13,\n",
      "           392, 29892,    13,    13,   991,   597, 23014, 26825,  4836, 29889,\n",
      "          3292, 29889,   601, 29914, 26495, 29899, 15388, 29914,  3332,  1199,\n",
      "         29914,  3286,   924,   290,  1199, 29914, 12631, 29879, 29914,   999,\n",
      "         29899,  6707, 29914, 12631, 29889,  1420,    13,    13,    13,   392,\n",
      "         29892,    13,    13,   991,   597, 24840,   535,  2199,   272, 29889,\n",
      "           990, 29914,  8318, 29914,   311,   955, 29914,  5365,   542, 29914,\n",
      "         29894,   647, 21158, 29914, 10718,   689, 15123, 24209,  3298, 29914,\n",
      "          2611, 29914,  1514, 29914, 10718,   689, 15123, 24209,  3298, 29889,\n",
      "          1420,    13,    13, 29961, 29896,  5387,  2045,   597, 29875, 29889,\n",
      "          1429, 29889,  3320, 29889,   510, 29914, 29920, 29939, 29945, 29884,\n",
      "         29955, 29889,  2732,    13, 29961, 29914,  8477, 29962,   474,   626,\n",
      "           451,  1854,   825,   278,  2228,   338, 29892,   541,   278,  1556,\n",
      "          1857,  1873,   310,   278,  8492,   338, 29871, 29906, 29889, 29896,\n",
      "         29889, 29906, 29889,   366,   508,  1018,   411,   393, 29889,   732,\n",
      "          1396,   474,   626,   773,   670,   271, 29906,   304,  2910, 13623,\n",
      "           304,   263,  3407,  2531,   608, 29889,   769,   474,   671,  1347,\n",
      "         29873]], device='cuda:0')\n"
     ]
    }
   ],
   "source": [
    "question = \"How can I run a rna-seq analysis in Galaxy?\"\n",
    "result = pipeline.run({\"prompt_builder\": {\"question\": question}})\n",
    "\n",
    "print(result['llm']['response'])"
   ]
  },
  {
   "cell_type": "code",
   "execution_count": 6,
   "id": "2731a54f-203d-4fd9-acab-ebe48cea0ac6",
   "metadata": {},
   "outputs": [
    {
     "ename": "ValueError",
     "evalue": "model_name_or_path must be either a string or a PromptModel object",
     "output_type": "error",
     "traceback": [
      "\u001b[0;31m---------------------------------------------------------------------------\u001b[0m",
      "\u001b[0;31mValueError\u001b[0m                                Traceback (most recent call last)",
      "Cell \u001b[0;32mIn[6], line 10\u001b[0m\n\u001b[1;32m      1\u001b[0m qa_template \u001b[38;5;241m=\u001b[39m PromptTemplate(prompt\u001b[38;5;241m=\u001b[39m\n\u001b[1;32m      2\u001b[0m \u001b[38;5;250m  \u001b[39m\u001b[38;5;124;03m\"\"\"<s>[INST] Using the information contained in the context, answer the question (using a maximum of two sentences).\u001b[39;00m\n\u001b[1;32m      3\u001b[0m \u001b[38;5;124;03m  If the answer cannot be deduced from the context, answer \\\"I don't know.\\\"\u001b[39;00m\n\u001b[1;32m      4\u001b[0m \u001b[38;5;124;03m  Context: {join(documents)};\u001b[39;00m\n\u001b[1;32m      5\u001b[0m \u001b[38;5;124;03m  Question: {query}\u001b[39;00m\n\u001b[1;32m      6\u001b[0m \u001b[38;5;124;03m  [/INST]\"\"\"\u001b[39;00m)\n\u001b[1;32m      8\u001b[0m \u001b[38;5;66;03m#model_name = \"NousResearch/Llama-2-7b-chat-hf\"\u001b[39;00m\n\u001b[1;32m      9\u001b[0m \u001b[38;5;66;03m#model_name = \"mistralai/Mistral-7B-Instruct-v0.1\"\u001b[39;00m\n\u001b[0;32m---> 10\u001b[0m prompt_node \u001b[38;5;241m=\u001b[39m \u001b[43mPromptNode\u001b[49m\u001b[43m(\u001b[49m\n\u001b[1;32m     11\u001b[0m \u001b[43m    \u001b[49m\u001b[43mmodel_name_or_path\u001b[49m\u001b[38;5;241;43m=\u001b[39;49m\u001b[43mpeft_model\u001b[49m\u001b[43m,\u001b[49m\n\u001b[1;32m     12\u001b[0m \u001b[43m    \u001b[49m\u001b[43mapi_key\u001b[49m\u001b[38;5;241;43m=\u001b[39;49m\u001b[43mHF_TOKEN\u001b[49m\u001b[43m,\u001b[49m\n\u001b[1;32m     13\u001b[0m \u001b[43m    \u001b[49m\u001b[43mdefault_prompt_template\u001b[49m\u001b[38;5;241;43m=\u001b[39;49m\u001b[43mqa_template\u001b[49m\u001b[43m,\u001b[49m\n\u001b[1;32m     14\u001b[0m \u001b[43m    \u001b[49m\u001b[43mmax_length\u001b[49m\u001b[38;5;241;43m=\u001b[39;49m\u001b[38;5;241;43m5500\u001b[39;49m\u001b[43m,\u001b[49m\n\u001b[1;32m     15\u001b[0m \u001b[43m    \u001b[49m\u001b[43mmodel_kwargs\u001b[49m\u001b[38;5;241;43m=\u001b[39;49m\u001b[43m{\u001b[49m\u001b[38;5;124;43m\"\u001b[39;49m\u001b[38;5;124;43mmodel_max_length\u001b[39;49m\u001b[38;5;124;43m\"\u001b[39;49m\u001b[43m:\u001b[49m\u001b[38;5;241;43m8000\u001b[39;49m\u001b[43m}\u001b[49m\n\u001b[1;32m     16\u001b[0m \u001b[43m)\u001b[49m\n",
      "File \u001b[0;32m/scratch/users/anup/miniconda3/envs/finetune-gllm/lib/python3.9/site-packages/haystack/nodes/base.py:46\u001b[0m, in \u001b[0;36mexportable_to_yaml.<locals>.wrapper_exportable_to_yaml\u001b[0;34m(self, *args, **kwargs)\u001b[0m\n\u001b[1;32m     43\u001b[0m         \u001b[38;5;28mself\u001b[39m\u001b[38;5;241m.\u001b[39m_component_config[\u001b[38;5;124m\"\u001b[39m\u001b[38;5;124mparams\u001b[39m\u001b[38;5;124m\"\u001b[39m][k] \u001b[38;5;241m=\u001b[39m v\n\u001b[1;32m     45\u001b[0m \u001b[38;5;66;03m# Call the actual __init__ function with all the arguments\u001b[39;00m\n\u001b[0;32m---> 46\u001b[0m \u001b[43minit_func\u001b[49m\u001b[43m(\u001b[49m\u001b[38;5;28;43mself\u001b[39;49m\u001b[43m,\u001b[49m\u001b[43m \u001b[49m\u001b[38;5;241;43m*\u001b[39;49m\u001b[43margs\u001b[49m\u001b[43m,\u001b[49m\u001b[43m \u001b[49m\u001b[38;5;241;43m*\u001b[39;49m\u001b[38;5;241;43m*\u001b[39;49m\u001b[43mkwargs\u001b[49m\u001b[43m)\u001b[49m\n",
      "File \u001b[0;32m/scratch/users/anup/miniconda3/envs/finetune-gllm/lib/python3.9/site-packages/haystack/nodes/prompt/prompt_node.py:126\u001b[0m, in \u001b[0;36mPromptNode.__init__\u001b[0;34m(self, model_name_or_path, default_prompt_template, output_variable, max_length, api_key, timeout, use_auth_token, use_gpu, devices, stop_words, top_k, debug, model_kwargs)\u001b[0m\n\u001b[1;32m    124\u001b[0m     \u001b[38;5;28mself\u001b[39m\u001b[38;5;241m.\u001b[39mprompt_model \u001b[38;5;241m=\u001b[39m model_name_or_path\n\u001b[1;32m    125\u001b[0m \u001b[38;5;28;01melse\u001b[39;00m:\n\u001b[0;32m--> 126\u001b[0m     \u001b[38;5;28;01mraise\u001b[39;00m \u001b[38;5;167;01mValueError\u001b[39;00m(\u001b[38;5;124m\"\u001b[39m\u001b[38;5;124mmodel_name_or_path must be either a string or a PromptModel object\u001b[39m\u001b[38;5;124m\"\u001b[39m)\n",
      "\u001b[0;31mValueError\u001b[0m: model_name_or_path must be either a string or a PromptModel object"
     ]
    }
   ],
   "source": [
    "'''qa_template = PromptTemplate(prompt=\n",
    "  \"\"\"<s>[INST] Using the information contained in the context, answer the question (using a maximum of two sentences).\n",
    "  If the answer cannot be deduced from the context, answer \\\"I don't know.\\\"\n",
    "  Context: {join(documents)};\n",
    "  Question: {query}\n",
    "  [/INST]\"\"\")\n",
    "\n",
    "#model_name = \"NousResearch/Llama-2-7b-chat-hf\"\n",
    "#model_name = \"mistralai/Mistral-7B-Instruct-v0.1\"\n",
    "prompt_node = PromptNode(\n",
    "    model_name_or_path=peft_model,\n",
    "    api_key=HF_TOKEN,\n",
    "    default_prompt_template=qa_template,\n",
    "    max_length=5500,\n",
    "    model_kwargs={\"model_max_length\":8000}\n",
    ")'''\n",
    "## https://colab.research.google.com/github/deepset-ai/haystack-cookbook/blob/main/notebooks/mixtral-8x7b-for-web-qa.ipynb#scrollTo=lpzQD_AHC6fp\n",
    "# from haystack.components.builders.prompt_builder import PromptBuilder"
   ]
  },
  {
   "cell_type": "code",
   "execution_count": null,
   "id": "bb0f6a4d-8b3c-44f5-8abe-e6f017f05d3d",
   "metadata": {},
   "outputs": [],
   "source": [
    "rag_pipeline = Pipeline()\n",
    "rag_pipeline.add_node(component=retriever, name=\"retriever\", inputs=[\"Query\"])\n",
    "rag_pipeline.add_node(component=prompt_node, name=\"prompt_node\", inputs=[\"retriever\"])\n",
    "pipeline.add_component(\"llm\", generator)\n",
    "\n",
    "from pprint import pprint\n",
    "print_answer = lambda out: pprint(out[\"results\"][0].strip())\n",
    "\n",
    "print_answer(rag_pipeline.run(query=\"I would suggest installing the refseq_masher package. I checked earlier, and found it in the toolshed. \\\n",
    "Please, this package will help a lot.\"))"
   ]
  },
  {
   "cell_type": "code",
   "execution_count": 15,
   "id": "aa8781d2-6af9-4a44-9614-5180102bdfd4",
   "metadata": {},
   "outputs": [
    {
     "data": {
      "text/html": [
       "<div>\n",
       "<style scoped>\n",
       "    .dataframe tbody tr th:only-of-type {\n",
       "        vertical-align: middle;\n",
       "    }\n",
       "\n",
       "    .dataframe tbody tr th {\n",
       "        vertical-align: top;\n",
       "    }\n",
       "\n",
       "    .dataframe thead th {\n",
       "        text-align: right;\n",
       "    }\n",
       "</style>\n",
       "<table border=\"1\" class=\"dataframe\">\n",
       "  <thead>\n",
       "    <tr style=\"text-align: right;\">\n",
       "      <th></th>\n",
       "      <th>conversations</th>\n",
       "      <th>tokens</th>\n",
       "    </tr>\n",
       "  </thead>\n",
       "  <tbody>\n",
       "    <tr>\n",
       "      <th>0</th>\n",
       "      <td>Galaxy is a web server to process scientific d...</td>\n",
       "      <td>184</td>\n",
       "    </tr>\n",
       "    <tr>\n",
       "      <th>1</th>\n",
       "      <td>Galaxy is a web server to process scientific d...</td>\n",
       "      <td>245</td>\n",
       "    </tr>\n",
       "    <tr>\n",
       "      <th>2</th>\n",
       "      <td>Galaxy is a web server to process scientific d...</td>\n",
       "      <td>189</td>\n",
       "    </tr>\n",
       "    <tr>\n",
       "      <th>3</th>\n",
       "      <td>Galaxy is a web server to process scientific d...</td>\n",
       "      <td>154</td>\n",
       "    </tr>\n",
       "    <tr>\n",
       "      <th>4</th>\n",
       "      <td>Galaxy is a web server to process scientific d...</td>\n",
       "      <td>608</td>\n",
       "    </tr>\n",
       "    <tr>\n",
       "      <th>...</th>\n",
       "      <td>...</td>\n",
       "      <td>...</td>\n",
       "    </tr>\n",
       "    <tr>\n",
       "      <th>116</th>\n",
       "      <td>Galaxy is a web server to process scientific d...</td>\n",
       "      <td>245</td>\n",
       "    </tr>\n",
       "    <tr>\n",
       "      <th>117</th>\n",
       "      <td>Galaxy is a web server to process scientific d...</td>\n",
       "      <td>200</td>\n",
       "    </tr>\n",
       "    <tr>\n",
       "      <th>118</th>\n",
       "      <td>Galaxy is a web server to process scientific d...</td>\n",
       "      <td>275</td>\n",
       "    </tr>\n",
       "    <tr>\n",
       "      <th>119</th>\n",
       "      <td>Galaxy is a web server to process scientific d...</td>\n",
       "      <td>396</td>\n",
       "    </tr>\n",
       "    <tr>\n",
       "      <th>120</th>\n",
       "      <td>Galaxy is a web server to process scientific d...</td>\n",
       "      <td>247</td>\n",
       "    </tr>\n",
       "  </tbody>\n",
       "</table>\n",
       "<p>121 rows × 2 columns</p>\n",
       "</div>"
      ],
      "text/plain": [
       "                                         conversations  tokens\n",
       "0    Galaxy is a web server to process scientific d...     184\n",
       "1    Galaxy is a web server to process scientific d...     245\n",
       "2    Galaxy is a web server to process scientific d...     189\n",
       "3    Galaxy is a web server to process scientific d...     154\n",
       "4    Galaxy is a web server to process scientific d...     608\n",
       "..                                                 ...     ...\n",
       "116  Galaxy is a web server to process scientific d...     245\n",
       "117  Galaxy is a web server to process scientific d...     200\n",
       "118  Galaxy is a web server to process scientific d...     275\n",
       "119  Galaxy is a web server to process scientific d...     396\n",
       "120  Galaxy is a web server to process scientific d...     247\n",
       "\n",
       "[121 rows x 2 columns]"
      ]
     },
     "execution_count": 15,
     "metadata": {},
     "output_type": "execute_result"
    }
   ],
   "source": [
    "import pandas as pd\n",
    "import time\n",
    "\n",
    "eval_conv = pd.read_csv(\"../data/eval_dataset.csv\", sep=\"\\t\")\n",
    "eval_conv"
   ]
  },
  {
   "cell_type": "code",
   "execution_count": null,
   "id": "062548b9-2e57-4a96-a58a-a5e0bb8c8898",
   "metadata": {},
   "outputs": [
    {
     "name": "stdout",
     "output_type": "stream",
     "text": [
      "Prompt: \n",
      "\n",
      "Galaxy is a web server to process scientific datasets. Act like a Bioinformatician who uses the Galaxy platform for biological data analysis. Understand the following instructions and prepare a suitable response.\n",
      "\n",
      "[INST] hi~ i see deseq2 version 2.11.40.7+galaxy1) added the factor\" option in output, rather than version 2.11.40.6, which is a big improvement for me. further more, i wonder could we have the option to use custom defined size factor in deseq2? because it is useful for spike-in samples. [/INST]\n",
      "Instruction: \n",
      "\n",
      "Galaxy is a web server to process scientific datasets. Act like a Bioinformatician who uses the Galaxy platform for biological data analysis. Understand the following instructions and prepare a suitable response.\n",
      "\n",
      "[INST] hi~ i see deseq2 version 2.11.40.7+galaxy1) added the factor\" option in output, rather than version 2.11.40.6, which is a big improvement for me. further more, i wonder could we have the option to use custom defined size factor in deseq2? because it is useful for spike-in samples.\n",
      "\n",
      "Ground truth answer: \n",
      "\n",
      ", i created an issue in order to request this functionality: deseq2: enable custom defined size factor (@link https://github.com/galaxyproject/tools-iuc/issues/4425). regards\n",
      "\n",
      "encoding prompt number 1...\n",
      "generating response number 1 ...\n"
     ]
    },
    {
     "name": "stderr",
     "output_type": "stream",
     "text": [
      "/scratch/users/anup/miniconda3/envs/finetune-gllm/lib/python3.9/site-packages/transformers/generation/utils.py:1259: UserWarning: You have modified the pretrained model configuration to control generation. This is a deprecated strategy to control generation and will be removed soon, in a future version. Please use a generation configuration file (see https://huggingface.co/docs/transformers/main_classes/text_generation)\n",
      "  warnings.warn(\n"
     ]
    },
    {
     "name": "stdout",
     "output_type": "stream",
     "text": [
      "Generated answer: \n",
      "\n",
      "great question! the new option to have a custom \"sizefactor\" in deseq2 is indeed a very useful improvement. while you are correct that version 2.11.40.6 does not have this feature, it is included in version 2.11.40.7 and higher.\n",
      "\n",
      "the \"sizefactor\" option is used to control the amount of dispersion in the design matrix for poisson glm, and can be useful for spike-in samples as you mentioned. previously, the only way to account for spike-in samples was by using the \"condition\" option in deseq2, which is not as flexible as \"sizefactor\" and may not always be appropriate for all experimental designs.\n",
      "\n",
      "to use the \"sizefactor\" option in deseq2, you can simply specify the size factor for each sample in the design matrix as follows:\n",
      "\n",
      "suppose you have a design matrix called \"design\" with columns for the samples (e.g. \"sample1\", \"sample2\", etc.) and the features of interest (e.g. \"expression1\", \"expression2\", etc.). then, to use the \"sizefactor\" option for a given sample, you can add\n",
      "\n",
      "====================\n",
      "Prompt: \n",
      "\n",
      "Galaxy is a web server to process scientific datasets. Act like a Bioinformatician who uses the Galaxy platform for biological data analysis. Understand the following instructions and prepare a suitable response.\n",
      "\n",
      "[INST] hello, i have a question related to this issue. i am using hisat2 but in the built-in reference genome there is no mm28 only mm9 and mm10. my question can i select mm10 during hisat2 and in the next stingtie i use the earlier version mm39 which i uploaded? [/INST]\n",
      "Instruction: \n",
      "\n",
      "Galaxy is a web server to process scientific datasets. Act like a Bioinformatician who uses the Galaxy platform for biological data analysis. Understand the following instructions and prepare a suitable response.\n",
      "\n",
      "[INST] hello, i have a question related to this issue. i am using hisat2 but in the built-in reference genome there is no mm28 only mm9 and mm10. my question can i select mm10 during hisat2 and in the next stingtie i use the earlier version mm39 which i uploaded?\n",
      "\n",
      "Ground truth answer: \n",
      "\n",
      "@quote can i select mm10 during hisat2 and in the next stingtie i use the earlier version mm39 which i uploaded you will have technical and scientific problems if data based on different genome assemblies are used together in the same analysis. choose a matching reference genome and reference annotation at the start of an analysis and use those throughout. public servers host different genome indexes. http://usegalaxy.eu hosts mm39 for now. note: next time, please consider asking a new question for new problems. you can reference other topics by url for context.\n",
      "\n",
      "encoding prompt number 2...\n",
      "generating response number 2 ...\n",
      "Generated answer: \n",
      "\n",
      "hello! yes, you can select mm10 as the reference genome during hisat2 mapping and then use a later version like mm39 for further analysis. hisat2 allows you to specify a different reference genome for the mapping step than what it uses for other steps like spliced alignments and variant calling. so, after running hisat2 with mm10 as the reference genome, you can proceed to use a different genome version like mm39 for your downstream analysis without any issues. make sure the mm39 genome is properly indexed before using it for any analysis in galaxy. you can use tools like genome_index or faidx to create an index for the mm39 genome. thanks for using galaxy!\n",
      "\n",
      "====================\n",
      "Prompt: \n",
      "\n",
      "Galaxy is a web server to process scientific datasets. Act like a Bioinformatician who uses the Galaxy platform for biological data analysis. Understand the following instructions and prepare a suitable response.\n",
      "\n",
      "[INST] i locally installed the docker version with qiime2 http://quay.io/qiime2/q2galaxy)). when i use get data upload file rule based and i paste remote urls https://zenodo.org/api/xxx/xxx.fastqsanger.gz) i get this message: \"build rules for updating datasets - access to this address in not permitted by server configuration\". any suggestions? thanks [/INST]\n",
      "Instruction: \n",
      "\n",
      "Galaxy is a web server to process scientific datasets. Act like a Bioinformatician who uses the Galaxy platform for biological data analysis. Understand the following instructions and prepare a suitable response.\n",
      "\n",
      "[INST] i locally installed the docker version with qiime2 http://quay.io/qiime2/q2galaxy)). when i use get data upload file rule based and i paste remote urls https://zenodo.org/api/xxx/xxx.fastqsanger.gz) i get this message: \"build rules for updating datasets - access to this address in not permitted by server configuration\". any suggestions? thanks\n",
      "\n",
      "Ground truth answer: \n",
      "\n",
      "please see: troubleshooting galaxy docker -- qiime2 (@link https://help.galaxyproject.org/t/troubleshooting-galaxy-docker-qiime2/9836)\n",
      "\n",
      "encoding prompt number 3...\n",
      "generating response number 3 ...\n"
     ]
    }
   ],
   "source": [
    "predictions = []\n",
    "original_instructions = []\n",
    "ground_truth_answer = []\n",
    "extracted_answers = []\n",
    "\n",
    "start_marker = 'Galaxy is a web server to process scientific datasets. Act like a Bioinformatician who uses the Galaxy platform for biological data analysis. Understand the following instructions and prepare a suitable response.'#'[INST]'\n",
    "end_marker = '[/INST]'\n",
    "end_tag = \"\"\n",
    "\n",
    "s_time = time.time()\n",
    "\n",
    "for ri, row in eval_conv.iterrows():\n",
    "    entire_conv = row[\"conversations\"]\n",
    "    start_index = entire_conv.find(start_marker)\n",
    "    end_index = entire_conv.find(end_marker)\n",
    "    instruction = entire_conv[start_index:end_index].strip()\n",
    "    prompt = entire_conv[start_index:end_index + len(end_marker)].strip()\n",
    "    original_answer = entire_conv[end_index + len(end_marker): len(entire_conv) - len(end_tag) - 1].strip()\n",
    "    original_instructions.append(instruction)\n",
    "    ground_truth_answer.append(original_answer)\n",
    "    print(\"Prompt: \\n\")\n",
    "    print(prompt)\n",
    "    print(\"Instruction: \\n\")\n",
    "    print(instruction)\n",
    "    print()\n",
    "    print(\"Ground truth answer: \\n\")\n",
    "    print(original_answer)\n",
    "    print()\n",
    "    print(\"encoding prompt number {}...\".format(ri+1))\n",
    "    input_ids = restored_tokenizer.encode(prompt, return_tensors=\"pt\").to('cuda')\n",
    "    print(\"generating response number {} ...\".format(ri+1))\n",
    "    outputs = peft_model.generate(input_ids=input_ids, \n",
    "        max_new_tokens=256,\n",
    "        do_sample=True,\n",
    "    )\n",
    "    pred = restored_tokenizer.decode(outputs[0])\n",
    "    extracted_pred = pred[pred.find(end_marker) + len(end_marker): len(pred)].strip()\n",
    "    predictions.append(pred)\n",
    "    extracted_answers.append(extracted_pred)\n",
    "    print(\"Generated answer: \\n\")\n",
    "    print(extracted_pred)\n",
    "    print()\n",
    "    print(\"====================\")\n",
    "    if ri == 10:\n",
    "        break\n",
    "\n",
    "#\"{}/{}\".format(base_dir, checkpoint_number)\n",
    "#output_file_name = \"generated_answers_peft_{}_{}\".format(base_dir, checkpoint_number)\n",
    "\n",
    "pred_dataframe = pd.DataFrame(zip(original_instructions, ground_truth_answer, extracted_answers, predictions), columns=[\"Instructions\", \"Ground truth answers\", \"Predicted answers\", \"Full generated answers\"])\n",
    "\n",
    "#pred_dataframe.to_csv(\"../data/{}.csv\".format(output_file_name), sep=\"\\t\", index=None)\n",
    "\n",
    "e_time = time.time()\n",
    "\n",
    "print(\"Finished generation in {} seconds\".format(e_time - s_time))"
   ]
  },
  {
   "cell_type": "code",
   "execution_count": null,
   "id": "a10fc458-25ff-4e67-95a0-21efbdda5749",
   "metadata": {},
   "outputs": [],
   "source": [
    "### Deepspeed\n",
    "\n",
    "'''config = {\n",
    "    #\"kernel_inject\": True,\n",
    "    #\"tensor_parallel\": {\"tp_size\": 4},\n",
    "    \"dtype\": torch.float16 #\"fp16\",\n",
    "    #\"enable_cuda_graph\": False\n",
    "}\n",
    "\n",
    "ds_engine = deepspeed.init_inference(peft_model, config=config) #config=config\n",
    "deepspeed_peft_model = ds_engine.module'''"
   ]
  },
  {
   "cell_type": "code",
   "execution_count": null,
   "id": "699a5754-9653-4f19-9780-baa28bc615f4",
   "metadata": {},
   "outputs": [],
   "source": [
    "#output_file_name = \"generated_answers_peft_fine-tuned-feb19-0_llama-linear-layers-all-conv-Feb-07-24_checkpoint-2200\""
   ]
  },
  {
   "cell_type": "code",
   "execution_count": null,
   "id": "58316db2-aeac-4048-ad81-68dc0229acd2",
   "metadata": {},
   "outputs": [],
   "source": [
    "pred_dataframe.to_csv(\"../data/{}.csv\".format(output_file_name), sep=\"\\t\", index=None)"
   ]
  },
  {
   "cell_type": "code",
   "execution_count": null,
   "id": "fb33baff-5c87-447a-a07f-d48ee826825a",
   "metadata": {},
   "outputs": [],
   "source": []
  },
  {
   "cell_type": "code",
   "execution_count": null,
   "id": "cd1c34ad-2d84-48c3-8d0c-38b3c895fe95",
   "metadata": {},
   "outputs": [],
   "source": []
  }
 ],
 "metadata": {
  "kernelspec": {
   "display_name": "Python 3 (ipykernel)",
   "language": "python",
   "name": "python3"
  },
  "language_info": {
   "codemirror_mode": {
    "name": "ipython",
    "version": 3
   },
   "file_extension": ".py",
   "mimetype": "text/x-python",
   "name": "python",
   "nbconvert_exporter": "python",
   "pygments_lexer": "ipython3",
   "version": "3.9.18"
  }
 },
 "nbformat": 4,
 "nbformat_minor": 5
}
